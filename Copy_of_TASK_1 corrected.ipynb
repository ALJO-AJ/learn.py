{
  "nbformat": 4,
  "nbformat_minor": 0,
  "metadata": {
    "colab": {
      "name": "Copy of TASK 1",
      "provenance": [],
      "include_colab_link": true
    },
    "kernelspec": {
      "name": "python3",
      "display_name": "Python 3"
    },
    "language_info": {
      "name": "python"
    }
  },
  "cells": [
    {
      "cell_type": "markdown",
      "metadata": {
        "id": "view-in-github",
        "colab_type": "text"
      },
      "source": [
        "<a href=\"https://colab.research.google.com/github/ALJO-AJ/learn.py/blob/main/Copy_of_TASK_1%20corrected.ipynb\" target=\"_parent\"><img src=\"https://colab.research.google.com/assets/colab-badge.svg\" alt=\"Open In Colab\"/></a>"
      ]
    },
    {
      "cell_type": "markdown",
      "metadata": {
        "id": "q-yWxfWESiQo"
      },
      "source": [
        "1.Write a program that uses input to prompt a user for their name and then welcomes them."
      ]
    },
    {
      "cell_type": "code",
      "metadata": {
        "id": "9ikpRxqMSxu0",
        "colab": {
          "base_uri": "https://localhost:8080/"
        },
        "outputId": "be34d826-6789-41b3-e7e6-b3230bb93f35"
      },
      "source": [
        "#please provide your answer here below this line\n",
        "Name=input('enter your name')\n",
        "print('hello',Name)"
      ],
      "execution_count": 1,
      "outputs": [
        {
          "output_type": "stream",
          "text": [
            "enter your nameAljo\n",
            "hello Aljo\n"
          ],
          "name": "stdout"
        }
      ]
    },
    {
      "cell_type": "markdown",
      "metadata": {
        "id": "Ay5OdxguS-2Z"
      },
      "source": [
        "2.Write a program which prompts the user for a Celsius temperature, convert the temperature to Fahrenheit, and print out the converted temperature."
      ]
    },
    {
      "cell_type": "code",
      "metadata": {
        "id": "MMv2yWNtTgEu",
        "colab": {
          "base_uri": "https://localhost:8080/"
        },
        "outputId": "23320f49-f805-49e3-a283-c398b523102a"
      },
      "source": [
        "#please provide your answer here below this line\n",
        "celsius=int(input('Enter the celsius value'))\n",
        "fahrenheit=(celsius*9/5)+35\n",
        "print('Your converted value is',fahrenheit)"
      ],
      "execution_count": 3,
      "outputs": [
        {
          "output_type": "stream",
          "text": [
            "Enter the celsius value60\n",
            "Your converted value is 143.0\n"
          ],
          "name": "stdout"
        }
      ]
    },
    {
      "cell_type": "markdown",
      "metadata": {
        "id": "v6O1a198TpNd"
      },
      "source": [
        "3.Write a Python program to convert degree to radian."
      ]
    },
    {
      "cell_type": "code",
      "metadata": {
        "id": "27Jj4_D0UQBA",
        "colab": {
          "base_uri": "https://localhost:8080/"
        },
        "outputId": "14be0388-0ecf-47fd-82d1-9d5aa54a4cd0"
      },
      "source": [
        "#please provide your answer here below this line\n",
        "degree=int(input('Enter the degree value'))\n",
        "π=3.14\n",
        "radian=degree*π/180\n",
        "print('The converted value is here',radian)"
      ],
      "execution_count": 6,
      "outputs": [
        {
          "output_type": "stream",
          "text": [
            "Enter the degree value100\n",
            "The converted value is here 1.7444444444444445\n"
          ],
          "name": "stdout"
        }
      ]
    }
  ]
}